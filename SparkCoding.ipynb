{
 "cells": [
  {
   "cell_type": "code",
   "execution_count": 1,
   "id": "5ecf9883-1796-4f87-a0c1-cb5c4a066b61",
   "metadata": {},
   "outputs": [
    {
     "name": "stderr",
     "output_type": "stream",
     "text": [
      "Setting default log level to \"WARN\".\n",
      "To adjust logging level use sc.setLogLevel(newLevel). For SparkR, use setLogLevel(newLevel).\n",
      "24/11/30 22:52:47 WARN NativeCodeLoader: Unable to load native-hadoop library for your platform... using builtin-java classes where applicable\n",
      "24/11/30 22:52:58 WARN GarbageCollectionMetrics: To enable non-built-in garbage collector(s) List(G1 Concurrent GC), users should configure it(them) to spark.eventLog.gcMetrics.youngGenerationGarbageCollectors or spark.eventLog.gcMetrics.oldGenerationGarbageCollectors\n"
     ]
    }
   ],
   "source": [
    "# Import PySpark\n",
    "from pyspark.sql import SparkSession\n",
    "\n",
    "#Create SparkSession\n",
    "spark = SparkSession.builder.appName('SparkByExamples.com').getOrCreate()"
   ]
  },
  {
   "cell_type": "code",
   "execution_count": 2,
   "id": "09fd832d-d7d4-491e-9141-9dee779cedcb",
   "metadata": {},
   "outputs": [
    {
     "name": "stderr",
     "output_type": "stream",
     "text": [
      "                                                                                \r"
     ]
    },
    {
     "name": "stdout",
     "output_type": "stream",
     "text": [
      "+-------------------+---------+\n",
      "|             VALUES|separator|\n",
      "+-------------------+---------+\n",
      "|       50000.0#0#0#|        #|\n",
      "|          0@1000.0@|        @|\n",
      "|                 1$|        $|\n",
      "|1000.00^Test_string|        ^|\n",
      "|      dog$cat^mouse|        ^|\n",
      "|         @0@1000.0@|        @|\n",
      "+-------------------+---------+\n",
      "\n"
     ]
    }
   ],
   "source": [
    "# Data\n",
    "records = [(\"50000.0#0#0#\", \"#\"),(\"0@1000.0@\", \"@\"), (\"1$\", \"$\"), (\"1000.00^Test_string\", \"^\"), \n",
    "           (\"dog$cat^mouse\", \"^\"), (\"@0@1000.0@\", \"@\")]\n",
    "\n",
    "# Columns\n",
    "columns = [\"VALUES\", \"separator\"]\n",
    "\n",
    "# Create a spark dataframe\n",
    "df_records = spark.createDataFrame(records).toDF(*columns)\n",
    "\n",
    "# Show df\n",
    "df_records.show()"
   ]
  },
  {
   "cell_type": "code",
   "execution_count": 3,
   "id": "e55f26d5-601d-47ba-8fb2-fbc59907f9aa",
   "metadata": {},
   "outputs": [
    {
     "name": "stdout",
     "output_type": "stream",
     "text": [
      "+-------------------+---------+-------------+----------------------+\n",
      "|VALUES             |separator|string_length|VALUES_ARRAY          |\n",
      "+-------------------+---------+-------------+----------------------+\n",
      "|50000.0#0#0#       |#        |12           |[50000.0, 0, 0, ]     |\n",
      "|0@1000.0@          |@        |9            |[0, 1000.0, ]         |\n",
      "|1$                 |$        |2            |[1, ]                 |\n",
      "|1000.00^Test_string|^        |19           |[1000.00, Test_string]|\n",
      "|dog$cat^mouse      |^        |13           |[dog$cat, mouse]      |\n",
      "|@0@1000.0@         |@        |10           |[, 0, 1000.0, ]       |\n",
      "+-------------------+---------+-------------+----------------------+\n",
      "\n"
     ]
    }
   ],
   "source": [
    "from pyspark.sql import functions as F\n",
    "\n",
    "# Using the string split\n",
    "df_records.createOrReplaceTempView(\"strings\")\n",
    "\n",
    "\n",
    "result = spark.sql(\"\"\"\n",
    "                        select VALUES, separator, \n",
    "                        length(values) as string_length,\n",
    "                        (\n",
    "                         CASE \n",
    "                         WHEN separator not in ('$','^') THEN SPLIT(VALUES, separator)\n",
    "                         WHEN separator = '$' THEN array(split_part(VALUES, \"$\", 1), \"\")\n",
    "                         WHEN separator = '^' THEN array(split_part(VALUES, \"^\", 1), split_part(VALUES, \"^\", 2))\n",
    "                         END\n",
    "                        ) AS VALUES_ARRAY\n",
    "                        from strings;\n",
    "                \"\"\")\n",
    "\n",
    "# Show df\n",
    "result.show(truncate=False)"
   ]
  },
  {
   "cell_type": "code",
   "execution_count": 4,
   "id": "62135671-70ed-4fa3-9970-8bfb04e77994",
   "metadata": {},
   "outputs": [
    {
     "name": "stdout",
     "output_type": "stream",
     "text": [
      "+-------------------+---------+-------------+----------------------+----------------------+\n",
      "|VALUES             |separator|string_length|VALUES_ARRAY          |VALUES_FILTERED       |\n",
      "+-------------------+---------+-------------+----------------------+----------------------+\n",
      "|50000.0#0#0#       |#        |12           |[50000.0, 0, 0, ]     |[50000.0, 0, 0]       |\n",
      "|0@1000.0@          |@        |9            |[0, 1000.0, ]         |[0, 1000.0]           |\n",
      "|1$                 |$        |2            |[1, ]                 |[1]                   |\n",
      "|1000.00^Test_string|^        |19           |[1000.00, Test_string]|[1000.00, Test_string]|\n",
      "|dog$cat^mouse      |^        |13           |[dog$cat, mouse]      |[dog$cat, mouse]      |\n",
      "|@0@1000.0@         |@        |10           |[, 0, 1000.0, ]       |[0, 1000.0]           |\n",
      "+-------------------+---------+-------------+----------------------+----------------------+\n",
      "\n"
     ]
    }
   ],
   "source": [
    "extra = result.withColumn(\"VALUES_FILTERED\", F.udf(lambda fname: [x for x in fname if x != \"\"])(\"VALUES_ARRAY\"))\n",
    "\n",
    "extra.show(truncate=False)"
   ]
  },
  {
   "cell_type": "code",
   "execution_count": null,
   "id": "f7a33c6b-6c0f-4c68-b9eb-019d7422e3aa",
   "metadata": {},
   "outputs": [],
   "source": []
  }
 ],
 "metadata": {
  "kernelspec": {
   "display_name": "PYSPARK_KERNEL",
   "language": "python",
   "name": "pyspark_kernel"
  },
  "language_info": {
   "codemirror_mode": {
    "name": "ipython",
    "version": 3
   },
   "file_extension": ".py",
   "mimetype": "text/x-python",
   "name": "python",
   "nbconvert_exporter": "python",
   "pygments_lexer": "ipython3",
   "version": "3.11.10"
  }
 },
 "nbformat": 4,
 "nbformat_minor": 5
}
